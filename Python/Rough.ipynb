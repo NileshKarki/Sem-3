{
 "cells": [
  {
   "cell_type": "markdown",
   "metadata": {},
   "source": [
    "# palindrome"
   ]
  },
  {
   "cell_type": "code",
   "execution_count": 1,
   "metadata": {},
   "outputs": [
    {
     "name": "stdout",
     "output_type": "stream",
     "text": [
      "True\n"
     ]
    }
   ],
   "source": [
    "def is_palindrome(word):\n",
    "    # Convert word to lowercase to ensure case insensitivity\n",
    "    word = word.lower()\n",
    "    # Compare the word with its reverse\n",
    "    return word == word[::-1]\n",
    "\n",
    "# Test the function\n",
    "print(is_palindrome(\"Racecar\"))  # Output: True\n"
   ]
  },
  {
   "cell_type": "markdown",
   "metadata": {},
   "source": [
    "### multiplication table up to 10x10"
   ]
  },
  {
   "cell_type": "code",
   "execution_count": null,
   "metadata": {},
   "outputs": [],
   "source": [
    "# Function to print a multiplication table up to 10x10\n",
    "def multiplication_table():\n",
    "    # Outer loop for rows (1 to 10)\n",
    "    for i in range(1, 11):\n",
    "        # Inner loop for columns (1 to 10)\n",
    "        for j in range(1, 11):\n",
    "            # Print the product of the current row and column values\n",
    "            print(i * j, end=\"\\t\")  # Using tab space for better formatting\n",
    "        print()  # Move to the next line after each row\n",
    "\n",
    "# Call the function to print the table\n",
    "multiplication_table()\n"
   ]
  },
  {
   "cell_type": "code",
   "execution_count": 4,
   "metadata": {},
   "outputs": [
    {
     "name": "stdout",
     "output_type": "stream",
     "text": [
      "6 5\n"
     ]
    }
   ],
   "source": [
    "a=5\n",
    "b=6\n",
    "a,b=b,a\n",
    "print(a,b)\n"
   ]
  },
  {
   "cell_type": "code",
   "execution_count": 7,
   "metadata": {},
   "outputs": [
    {
     "name": "stdout",
     "output_type": "stream",
     "text": [
      "1\n",
      "2\n",
      "3\n",
      "Found 3, breaking the loop.\n",
      "1\n",
      "2\n",
      "3\n",
      "4\n",
      "5\n",
      "Loop completed without interruption.\n"
     ]
    }
   ],
   "source": [
    "numbers = [1, 2, 3, 4, 5]\n",
    "\n",
    "for num in numbers:\n",
    "    print(num)\n",
    "    if num == 3:\n",
    "        print(\"Found 3, breaking the loop.\")\n",
    "        break\n",
    "else:\n",
    "    print(\"This will not be printed because the loop was exited with a break.\")\n",
    "\n",
    "# Another example without a break\n",
    "for num in numbers:\n",
    "    print(num)\n",
    "else:\n",
    "    print(\"Loop completed without interruption.\")\n"
   ]
  },
  {
   "cell_type": "code",
   "execution_count": 12,
   "metadata": {},
   "outputs": [
    {
     "name": "stdout",
     "output_type": "stream",
     "text": [
      "2012  a leap year\n"
     ]
    }
   ],
   "source": [
    "a=int(input(\"Enter a number\"))\n",
    "if a%4==0:\n",
    "    if a%100==0:\n",
    "        if a%400==0:\n",
    "            print(a,\" is leap year\")\n",
    "        else:\n",
    "            print(a, \"Not a leap year\")\n",
    "    else:\n",
    "        print(a, \" a leap year\")\n",
    "else:\n",
    "     print(a, \"Not a leap year\")"
   ]
  },
  {
   "cell_type": "code",
   "execution_count": 11,
   "metadata": {},
   "outputs": [
    {
     "name": "stdout",
     "output_type": "stream",
     "text": [
      "2012 is a leap year.\n"
     ]
    }
   ],
   "source": [
    "def is_leap_year(year):\n",
    "    if (year % 4 == 0):  # Year divisible by 4\n",
    "        if (year % 100 == 0):  # Year divisible by 100\n",
    "            if (year % 400 == 0):  # Year divisible by 400\n",
    "                return True  # Leap year\n",
    "            else:\n",
    "                return False  # Not a leap year\n",
    "        else:\n",
    "            return True  # Leap year\n",
    "    else:\n",
    "        return False  # Not a leap year\n",
    "\n",
    "# Example usage\n",
    "year = 2012\n",
    "if is_leap_year(year):\n",
    "    print(f\"{year} is a leap year.\")\n",
    "else:\n",
    "    print(f\"{year} is not a leap year.\")\n"
   ]
  },
  {
   "cell_type": "code",
   "execution_count": 38,
   "metadata": {},
   "outputs": [
    {
     "name": "stdout",
     "output_type": "stream",
     "text": [
      "Fibonacci sequence up to 1 :\n",
      "0\n"
     ]
    }
   ],
   "source": [
    "# Input: number of terms\n",
    "n = int(input(\"Enter the number of terms: \"))\n",
    "\n",
    "# First two terms of the Fibonacci sequence\n",
    "a, b = 0, 1\n",
    "\n",
    "# Check if the input is valid\n",
    "if n <= 0:\n",
    "    print(\"Please enter a number greater than Zero.\")\n",
    "elif n == 1:\n",
    "    print(\"Fibonacci sequence up to\", n, \":\")\n",
    "    print(a)\n",
    "else:\n",
    "    print(\"Fibonacci sequence:\")\n",
    "    for i in range(n):\n",
    "        print(a, end=\" \")\n",
    "        # Update the values of a and b for the next term\n",
    "        a, b = b, a + b\n"
   ]
  },
  {
   "cell_type": "code",
   "execution_count": 10,
   "metadata": {},
   "outputs": [
    {
     "data": {
      "text/plain": [
       "'o'"
      ]
     },
     "execution_count": 10,
     "metadata": {},
     "output_type": "execute_result"
    }
   ],
   "source": [
    "string=\"Hello World\"\n",
    "string[0:4]\n",
    "string[4]"
   ]
  },
  {
   "cell_type": "code",
   "execution_count": 17,
   "metadata": {},
   "outputs": [
    {
     "name": "stdout",
     "output_type": "stream",
     "text": [
      "hello world\n"
     ]
    },
    {
     "data": {
      "text/plain": [
       "True"
      ]
     },
     "execution_count": 17,
     "metadata": {},
     "output_type": "execute_result"
    }
   ],
   "source": [
    "str1=string.lower()\n",
    "print(str1)\n",
    "str1.islower()\n"
   ]
  },
  {
   "cell_type": "code",
   "execution_count": 12,
   "metadata": {},
   "outputs": [
    {
     "data": {
      "text/plain": [
       "False"
      ]
     },
     "execution_count": 12,
     "metadata": {},
     "output_type": "execute_result"
    }
   ],
   "source": [
    "string.isupper()"
   ]
  },
  {
   "cell_type": "code",
   "execution_count": 27,
   "metadata": {},
   "outputs": [
    {
     "name": "stdout",
     "output_type": "stream",
     "text": [
      "{'apple', 'date', 'cherry', 'banana'}\n"
     ]
    },
    {
     "data": {
      "text/plain": [
       "{'apple', 'cherry', 'date'}"
      ]
     },
     "execution_count": 27,
     "metadata": {},
     "output_type": "execute_result"
    }
   ],
   "source": [
    "fruit_set={\"apple\",\"banana\",\"cherry\"}\n",
    "fruit_set.add(\"date\")\n",
    "print(fruit_set)\n",
    "fruit_set.remove(\"banana\")\n",
    "fruit_set"
   ]
  },
  {
   "cell_type": "code",
   "execution_count": 31,
   "metadata": {},
   "outputs": [
    {
     "name": "stdout",
     "output_type": "stream",
     "text": [
      "Grade C\n"
     ]
    }
   ],
   "source": [
    "a=int(input(\"Enter Marks\"))\n",
    "\n",
    "if a>100 or a<0:\n",
    "    print(\"Enter a vaild Marks\")\n",
    "\n",
    "elif a>=70:\n",
    "    print(\"Grade A\")\n",
    "\n",
    "elif a>=60 and a<70:\n",
    "    print(\"Grade B\")\n",
    "\n",
    "elif a>=50 and a<60:\n",
    "    print(\"Grade C\")\n",
    "\n",
    "elif a>=40 and a<50:\n",
    "    print(\"Grade D\")\n",
    "\n",
    "else:\n",
    "    print(\"Grade F\")\n",
    "\n",
    "\n"
   ]
  },
  {
   "cell_type": "code",
   "execution_count": 34,
   "metadata": {},
   "outputs": [
    {
     "name": "stdout",
     "output_type": "stream",
     "text": [
      "6\n"
     ]
    }
   ],
   "source": [
    "n=int(input(\"Enter a number\"))\n",
    "fact=1\n",
    "for i in range(1,n+1):\n",
    "    fact=fact*i\n",
    "print(fact)"
   ]
  }
 ],
 "metadata": {
  "kernelspec": {
   "display_name": "Python 3",
   "language": "python",
   "name": "python3"
  },
  "language_info": {
   "codemirror_mode": {
    "name": "ipython",
    "version": 3
   },
   "file_extension": ".py",
   "mimetype": "text/x-python",
   "name": "python",
   "nbconvert_exporter": "python",
   "pygments_lexer": "ipython3",
   "version": "3.12.6"
  }
 },
 "nbformat": 4,
 "nbformat_minor": 2
}
